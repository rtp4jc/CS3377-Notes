{
 "cells": [
  {
   "cell_type": "markdown",
   "metadata": {},
   "source": [
    "# Version Control\n",
    "## Benefits\n",
    "- Data backup\n",
    "- Change synchronization\n",
    "- Undoing earlier changes\n",
    "- Used for multiple releases\n",
    "- Used for long-running development\n",
    "    - Save incremental changes locally or on another branch without messing people up\n",
    "\n",
    "## Types of VCS\n",
    "- Monolithic (ClearCase)\n",
    "    - Have to check out files to make changes (only one person at a time)\n",
    "    - Committed one file at a time\n",
    "    - Need an additional tool to group files\n",
    "    - Has branching\n",
    "    - Merges are performed per file\n",
    "    - Code review is done manually\n",
    "- Distributed (git)\n",
    "    - Clone the repository locally to update files\n",
    "    - Committed in a group of files (whatever you select)\n",
    "    - Has some automatic file grouping\n",
    "    - Has branching\n",
    "    - Merges occur with each commit (1+ files)\n",
    "    - Code review is done with pull requests"
   ]
  }
 ],
 "metadata": {
  "kernelspec": {
   "display_name": "C++17",
   "language": "C++17",
   "name": "xcpp17"
  },
  "language_info": {
   "codemirror_mode": "text/x-c++src",
   "file_extension": ".cpp",
   "mimetype": "text/x-c++src",
   "name": "c++",
   "version": "-std=c++17"
  }
 },
 "nbformat": 4,
 "nbformat_minor": 2
}
