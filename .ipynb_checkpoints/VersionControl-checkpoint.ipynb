{
 "cells": [
  {
   "cell_type": "markdown",
   "metadata": {},
   "source": [
    "# Version Control\n",
    "## Benefits\n",
    "- Data backup\n",
    "- Change synchronization\n",
    "- Undoing earlier changes\n",
    "- Used for multiple releases\n",
    "- Used for long-running development\n",
    "    - Save incremental changes locally or on another branch without messing people up\n"
   ]
  }
 ],
 "metadata": {
  "kernelspec": {
   "display_name": "C++17",
   "language": "C++17",
   "name": "xcpp17"
  },
  "language_info": {
   "codemirror_mode": "text/x-c++src",
   "file_extension": ".cpp",
   "mimetype": "text/x-c++src",
   "name": "c++",
   "version": "-std=c++17"
  }
 },
 "nbformat": 4,
 "nbformat_minor": 2
}
