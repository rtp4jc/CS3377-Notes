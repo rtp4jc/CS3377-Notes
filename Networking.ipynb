{
 "cells": [
  {
   "cell_type": "markdown",
   "metadata": {},
   "source": [
    "# Networking\n",
    "- Different kinds of communication\n",
    "    - Pipes: most common inter process communication (IPC)\n",
    "    - \n",
    "\n",
    "## Duplexes\n",
    "- Half duplex: one-way communication\n",
    "- Full duplex: two-way duplex\n",
    "\n",
    "## Pipes\n",
    "- Usually a half-duplex (can be full, but usually not)\n",
    "- You can pipe on the command line with `|`, but you can also pipe in the code\n",
    "    - Use `int pipe(int fd[2])`: the first element is the read end and the second element is the write end\n",
    "    - Usually a child reads and the parent writes\n",
    "    - In order to make a pipe survive an exec, make the pipe STDIN/STDOUT\n",
    "        - Use dup2 to copy the existing pipe end to either STDIN or STDOUT"
   ]
  },
  {
   "cell_type": "code",
   "execution_count": 1,
   "metadata": {},
   "outputs": [],
   "source": [
    "#include <unistd.h>\n",
    "\n",
    "// Other includes\n",
    "#include <iostream>\n",
    "using namespace std;"
   ]
  },
  {
   "cell_type": "code",
   "execution_count": 2,
   "metadata": {},
   "outputs": [
    {
     "name": "stdout",
     "output_type": "stream",
     "text": [
      "Creating pipe\n",
      "Write fd: 26\n",
      "Read fd: 31\n"
     ]
    }
   ],
   "source": [
    "cout << \"Creating pipe\" << endl;\n",
    "\n",
    "int p[2];\n",
    "\n",
    "pipe(p);\n",
    "\n",
    "cout << \"Write fd: \" << p[0] << \"\\nRead fd: \" << p[1] << endl;"
   ]
  },
  {
   "cell_type": "markdown",
   "metadata": {},
   "source": [
    "- Read and write done with read and write functions\n",
    "- Uses a buffer so the message might be read in chunks which has to be handled\n",
    "- `FILE* popen(const char *cmdstring, const char *type)`\n",
    "    - pipe + fork + dup2 + exec\n",
    "    - Opens a pipe for the given command\n",
    "    - Type is either 'w' or 'r' to determine whether the current process is reading or writing\n",
    "- `int pclose(FILE *fp)`\n",
    "    - close pipe + waitpid\n",
    "    - Closes the current pipe and waits for the child to finish\n"
   ]
  },
  {
   "cell_type": "markdown",
   "metadata": {},
   "source": [
    "## FIFO\n",
    "- Example usage: client-server\n",
    "- Multiple processes write to the FIFO and one process reads\n",
    "    - How does the server respond? Uses something like sockets)\n",
    "\n",
    "## Semaphores\n",
    "- Like a mutex, but can allow a set number of processes to hold the lock at a time\n",
    "\n",
    "\n",
    "## Shared memory\n",
    "- Two processes can literally map a section of their memory space to overlap\n",
    "- Super fast, but very dangerous\n",
    "- Very few reasonable applications\n",
    "- If there's that much overlap, it might be best to just multithread a single process"
   ]
  }
 ],
 "metadata": {
  "kernelspec": {
   "display_name": "C++17",
   "language": "C++17",
   "name": "xcpp17"
  },
  "language_info": {
   "codemirror_mode": "text/x-c++src",
   "file_extension": ".cpp",
   "mimetype": "text/x-c++src",
   "name": "c++",
   "version": "-std=c++17"
  }
 },
 "nbformat": 4,
 "nbformat_minor": 2
}
