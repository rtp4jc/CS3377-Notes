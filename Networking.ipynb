{
 "cells": [
  {
   "cell_type": "markdown",
   "metadata": {},
   "source": [
    "# Networking\n",
    "- Different kinds of communication\n",
    "    - Pipes: most common inter process communication (IPC)\n",
    "    - \n",
    "\n",
    "## Duplexes\n",
    "- Half duplex: one-way communication\n",
    "- Full duplex: two-way duplex\n",
    "\n",
    "## Pipes\n",
    "- Usually a half-duplex (can be full, but usually not)\n",
    "- You can pipe on the command line with `|`, but you can also pipe in the code\n",
    "    - Use `int pipe(int fd[2])`: the first element is the read end and the second element is the write end\n",
    "    - Usually a child reads and the parent writes\n",
    "    - In order to make a pipe survive an exec, make the pipe STDIN/STDOUT\n",
    "        - Use dup2 to copy the existing pipe end to either STDIN or STDOUT"
   ]
  },
  {
   "cell_type": "code",
   "execution_count": 1,
   "metadata": {},
   "outputs": [],
   "source": [
    "#include <unistd.h>\n",
    "\n",
    "// Other includes\n",
    "#include <iostream>\n",
    "using namespace std;"
   ]
  },
  {
   "cell_type": "code",
   "execution_count": 2,
   "metadata": {},
   "outputs": [
    {
     "name": "stdout",
     "output_type": "stream",
     "text": [
      "Creating pipe\n",
      "Write fd: 26\n",
      "Read fd: 31\n"
     ]
    }
   ],
   "source": [
    "cout << \"Creating pipe\" << endl;\n",
    "\n",
    "int p[2];\n",
    "\n",
    "pipe(p);\n",
    "\n",
    "cout << \"Write fd: \" << p[0] << \"\\nRead fd: \" << p[1] << endl;"
   ]
  },
  {
   "cell_type": "markdown",
   "metadata": {},
   "source": [
    "- Read and write done with read and write functions\n",
    "- Uses a buffer so the message might be read in chunks which has to be handled\n",
    "- `FILE* popen(const char *cmdstring, const char *type)`\n",
    "    - pipe + fork + dup2 + exec\n",
    "    - Opens a pipe for the given command\n",
    "    - Type is either 'w' or 'r' to determine whether the current process is reading or writing\n",
    "- `int pclose(FILE *fp)`\n",
    "    - close pipe + waitpid\n",
    "    - Closes the current pipe and waits for the child to finish\n"
   ]
  },
  {
   "cell_type": "markdown",
   "metadata": {},
   "source": [
    "## FIFO\n",
    "- Example usage: client-server\n",
    "- Multiple processes write to the FIFO and one process reads\n",
    "    - How does the server respond? Uses something like sockets)\n",
    "\n",
    "## Semaphores\n",
    "- Like a mutex, but can allow a set number of processes to hold the lock at a time\n",
    "\n",
    "\n",
    "## Shared memory\n",
    "- Two processes can literally map a section of their memory space to overlap\n",
    "- Super fast, but very dangerous\n",
    "- Very few reasonable applications\n",
    "- If there's that much overlap, it might be best to just multithread a single process"
   ]
  },
  {
   "cell_type": "markdown",
   "metadata": {},
   "source": [
    "# Sockets\n",
    "- First you create a socket\n",
    "    - This returns a file descriptor to that socket\n",
    "- 3 Steps for connection from server:\n",
    "    - Bind (`bind()`)\n",
    "        - Requests port from OS\n",
    "    - Listen\n",
    "        - Confirms port with OS which then goes and gets ready to make connections\n",
    "    - Accept\n",
    "        - Program blocks and waits to connect to client\n",
    "        - Returns new file descriptor that represents the given connection\n",
    "- Connecting from client:\n",
    "    - Create socket with `bind()`\n",
    "    - Get address (`struct sockaddr`) to server\n",
    "        `struct sockaddr_in` has sin_family\n",
    "    - Call `connect()`\n",
    "    "
   ]
  },
  {
   "cell_type": "markdown",
   "metadata": {},
   "source": [
    "# New Functions\n",
    "- `send()`: sends data to write buffer and returns how much is written\n",
    "- `recv()`: gets data from buffer\n",
    "    - Has some useful flag options:\n",
    "        - MSG_DONTWAIT: don't block for data\n",
    "        - MSG_PEEK: return a copy of the data, but don't remove it from the buffer (not processing it yet)\n",
    "        - MSG_WAITALL: wait for the full size we have requested (we know it's coming, we just want to wait until it all gets here)\n",
    "    "
   ]
  },
  {
   "cell_type": "code",
   "execution_count": null,
   "metadata": {},
   "outputs": [],
   "source": []
  }
 ],
 "metadata": {
  "kernelspec": {
   "display_name": "C++17",
   "language": "C++17",
   "name": "xcpp17"
  },
  "language_info": {
   "codemirror_mode": "text/x-c++src",
   "file_extension": ".cpp",
   "mimetype": "text/x-c++src",
   "name": "c++",
   "version": "-std=c++17"
  }
 },
 "nbformat": 4,
 "nbformat_minor": 2
}
